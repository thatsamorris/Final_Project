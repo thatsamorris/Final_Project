{
 "cells": [
  {
   "cell_type": "code",
   "execution_count": 60,
   "metadata": {},
   "outputs": [],
   "source": [
    " %matplotlib inline\n",
    "import matplotlib.pyplot as plt\n",
    "import numpy as np\n",
    "import pandas as pd\n",
    "\n",
    "\n",
    "from matplotlib import style\n",
    "style.use(\"ggplot\")\n",
    "# from matplotlib import rcParams\n",
    "# rcParams['figure.figsize'] = 10, 8"
   ]
  },
  {
   "cell_type": "code",
   "execution_count": 61,
   "metadata": {},
   "outputs": [
    {
     "data": {
      "text/html": [
       "<div>\n",
       "<style scoped>\n",
       "    .dataframe tbody tr th:only-of-type {\n",
       "        vertical-align: middle;\n",
       "    }\n",
       "\n",
       "    .dataframe tbody tr th {\n",
       "        vertical-align: top;\n",
       "    }\n",
       "\n",
       "    .dataframe thead th {\n",
       "        text-align: right;\n",
       "    }\n",
       "</style>\n",
       "<table border=\"1\" class=\"dataframe\">\n",
       "  <thead>\n",
       "    <tr style=\"text-align: right;\">\n",
       "      <th></th>\n",
       "      <th>zipcode</th>\n",
       "      <th>total_crimes</th>\n",
       "      <th>Population</th>\n",
       "      <th>Median Age</th>\n",
       "      <th>Household Income</th>\n",
       "      <th>Per Capita Income</th>\n",
       "      <th>Poverty Count</th>\n",
       "      <th>Poverty Rate</th>\n",
       "      <th>crime rate</th>\n",
       "      <th>crime rating</th>\n",
       "      <th>crime encode</th>\n",
       "    </tr>\n",
       "  </thead>\n",
       "  <tbody>\n",
       "    <tr>\n",
       "      <th>0</th>\n",
       "      <td>85746.0</td>\n",
       "      <td>29633.0</td>\n",
       "      <td>42704.0</td>\n",
       "      <td>31.8</td>\n",
       "      <td>41427.0</td>\n",
       "      <td>16176.0</td>\n",
       "      <td>10686.0</td>\n",
       "      <td>25.023417</td>\n",
       "      <td>0.693916</td>\n",
       "      <td>high</td>\n",
       "      <td>2.0</td>\n",
       "    </tr>\n",
       "    <tr>\n",
       "      <th>1</th>\n",
       "      <td>85706.0</td>\n",
       "      <td>38102.0</td>\n",
       "      <td>56989.0</td>\n",
       "      <td>27.5</td>\n",
       "      <td>29814.0</td>\n",
       "      <td>12164.0</td>\n",
       "      <td>20916.0</td>\n",
       "      <td>36.701820</td>\n",
       "      <td>0.668585</td>\n",
       "      <td>high</td>\n",
       "      <td>2.0</td>\n",
       "    </tr>\n",
       "    <tr>\n",
       "      <th>2</th>\n",
       "      <td>85756.0</td>\n",
       "      <td>8557.0</td>\n",
       "      <td>35522.0</td>\n",
       "      <td>31.8</td>\n",
       "      <td>46672.0</td>\n",
       "      <td>16574.0</td>\n",
       "      <td>5229.0</td>\n",
       "      <td>14.720455</td>\n",
       "      <td>0.240893</td>\n",
       "      <td>high</td>\n",
       "      <td>2.0</td>\n",
       "    </tr>\n",
       "    <tr>\n",
       "      <th>3</th>\n",
       "      <td>85747.0</td>\n",
       "      <td>4670.0</td>\n",
       "      <td>23490.0</td>\n",
       "      <td>34.5</td>\n",
       "      <td>81474.0</td>\n",
       "      <td>31039.0</td>\n",
       "      <td>1199.0</td>\n",
       "      <td>5.104300</td>\n",
       "      <td>0.198808</td>\n",
       "      <td>high</td>\n",
       "      <td>2.0</td>\n",
       "    </tr>\n",
       "    <tr>\n",
       "      <th>4</th>\n",
       "      <td>85748.0</td>\n",
       "      <td>2971.0</td>\n",
       "      <td>18275.0</td>\n",
       "      <td>45.4</td>\n",
       "      <td>69871.0</td>\n",
       "      <td>34353.0</td>\n",
       "      <td>1254.0</td>\n",
       "      <td>6.861833</td>\n",
       "      <td>0.162572</td>\n",
       "      <td>high</td>\n",
       "      <td>2.0</td>\n",
       "    </tr>\n",
       "  </tbody>\n",
       "</table>\n",
       "</div>"
      ],
      "text/plain": [
       "   zipcode  total_crimes  Population  Median Age  Household Income  \\\n",
       "0  85746.0       29633.0     42704.0        31.8           41427.0   \n",
       "1  85706.0       38102.0     56989.0        27.5           29814.0   \n",
       "2  85756.0        8557.0     35522.0        31.8           46672.0   \n",
       "3  85747.0        4670.0     23490.0        34.5           81474.0   \n",
       "4  85748.0        2971.0     18275.0        45.4           69871.0   \n",
       "\n",
       "   Per Capita Income  Poverty Count  Poverty Rate  crime rate crime rating  \\\n",
       "0            16176.0        10686.0     25.023417    0.693916         high   \n",
       "1            12164.0        20916.0     36.701820    0.668585         high   \n",
       "2            16574.0         5229.0     14.720455    0.240893         high   \n",
       "3            31039.0         1199.0      5.104300    0.198808         high   \n",
       "4            34353.0         1254.0      6.861833    0.162572         high   \n",
       "\n",
       "   crime encode  \n",
       "0           2.0  \n",
       "1           2.0  \n",
       "2           2.0  \n",
       "3           2.0  \n",
       "4           2.0  "
      ]
     },
     "execution_count": 61,
     "metadata": {},
     "output_type": "execute_result"
    }
   ],
   "source": [
    "census = pd.read_csv('../data/combined_cleaned_encode.csv')\n",
    "census.head()"
   ]
  },
  {
   "cell_type": "code",
   "execution_count": 62,
   "metadata": {},
   "outputs": [
    {
     "data": {
      "text/plain": [
       "(440, 11)"
      ]
     },
     "execution_count": 62,
     "metadata": {},
     "output_type": "execute_result"
    }
   ],
   "source": [
    "census.shape"
   ]
  },
  {
   "cell_type": "code",
   "execution_count": 63,
   "metadata": {},
   "outputs": [
    {
     "name": "stdout",
     "output_type": "stream",
     "text": [
      "['zipcode', 'total_crimes', 'Population', 'Median Age', 'Household Income', 'Per Capita Income', 'Poverty Count', 'Poverty Rate', 'crime rate', 'crime rating', 'crime encode']\n"
     ]
    }
   ],
   "source": [
    "print(list(census.head(0)))"
   ]
  },
  {
   "cell_type": "code",
   "execution_count": 64,
   "metadata": {},
   "outputs": [
    {
     "data": {
      "text/html": [
       "<div>\n",
       "<style scoped>\n",
       "    .dataframe tbody tr th:only-of-type {\n",
       "        vertical-align: middle;\n",
       "    }\n",
       "\n",
       "    .dataframe tbody tr th {\n",
       "        vertical-align: top;\n",
       "    }\n",
       "\n",
       "    .dataframe thead th {\n",
       "        text-align: right;\n",
       "    }\n",
       "</style>\n",
       "<table border=\"1\" class=\"dataframe\">\n",
       "  <thead>\n",
       "    <tr style=\"text-align: right;\">\n",
       "      <th></th>\n",
       "      <th>zipcode</th>\n",
       "      <th>total_crimes</th>\n",
       "      <th>Population</th>\n",
       "      <th>Median Age</th>\n",
       "      <th>Household Income</th>\n",
       "      <th>Per Capita Income</th>\n",
       "      <th>Poverty Count</th>\n",
       "      <th>Poverty Rate</th>\n",
       "      <th>crime rate</th>\n",
       "      <th>crime rating</th>\n",
       "      <th>crime encode</th>\n",
       "      <th>encode</th>\n",
       "    </tr>\n",
       "  </thead>\n",
       "  <tbody>\n",
       "    <tr>\n",
       "      <th>0</th>\n",
       "      <td>85746.0</td>\n",
       "      <td>29633.0</td>\n",
       "      <td>42704.0</td>\n",
       "      <td>31.8</td>\n",
       "      <td>41427.0</td>\n",
       "      <td>16176.0</td>\n",
       "      <td>10686.0</td>\n",
       "      <td>25.023417</td>\n",
       "      <td>0.693916</td>\n",
       "      <td>high</td>\n",
       "      <td>2.0</td>\n",
       "      <td>1.0</td>\n",
       "    </tr>\n",
       "    <tr>\n",
       "      <th>1</th>\n",
       "      <td>85706.0</td>\n",
       "      <td>38102.0</td>\n",
       "      <td>56989.0</td>\n",
       "      <td>27.5</td>\n",
       "      <td>29814.0</td>\n",
       "      <td>12164.0</td>\n",
       "      <td>20916.0</td>\n",
       "      <td>36.701820</td>\n",
       "      <td>0.668585</td>\n",
       "      <td>high</td>\n",
       "      <td>2.0</td>\n",
       "      <td>1.0</td>\n",
       "    </tr>\n",
       "    <tr>\n",
       "      <th>2</th>\n",
       "      <td>85756.0</td>\n",
       "      <td>8557.0</td>\n",
       "      <td>35522.0</td>\n",
       "      <td>31.8</td>\n",
       "      <td>46672.0</td>\n",
       "      <td>16574.0</td>\n",
       "      <td>5229.0</td>\n",
       "      <td>14.720455</td>\n",
       "      <td>0.240893</td>\n",
       "      <td>high</td>\n",
       "      <td>2.0</td>\n",
       "      <td>1.0</td>\n",
       "    </tr>\n",
       "    <tr>\n",
       "      <th>3</th>\n",
       "      <td>85747.0</td>\n",
       "      <td>4670.0</td>\n",
       "      <td>23490.0</td>\n",
       "      <td>34.5</td>\n",
       "      <td>81474.0</td>\n",
       "      <td>31039.0</td>\n",
       "      <td>1199.0</td>\n",
       "      <td>5.104300</td>\n",
       "      <td>0.198808</td>\n",
       "      <td>high</td>\n",
       "      <td>2.0</td>\n",
       "      <td>1.0</td>\n",
       "    </tr>\n",
       "    <tr>\n",
       "      <th>4</th>\n",
       "      <td>85748.0</td>\n",
       "      <td>2971.0</td>\n",
       "      <td>18275.0</td>\n",
       "      <td>45.4</td>\n",
       "      <td>69871.0</td>\n",
       "      <td>34353.0</td>\n",
       "      <td>1254.0</td>\n",
       "      <td>6.861833</td>\n",
       "      <td>0.162572</td>\n",
       "      <td>high</td>\n",
       "      <td>2.0</td>\n",
       "      <td>1.0</td>\n",
       "    </tr>\n",
       "  </tbody>\n",
       "</table>\n",
       "</div>"
      ],
      "text/plain": [
       "   zipcode  total_crimes  Population  Median Age  Household Income  \\\n",
       "0  85746.0       29633.0     42704.0        31.8           41427.0   \n",
       "1  85706.0       38102.0     56989.0        27.5           29814.0   \n",
       "2  85756.0        8557.0     35522.0        31.8           46672.0   \n",
       "3  85747.0        4670.0     23490.0        34.5           81474.0   \n",
       "4  85748.0        2971.0     18275.0        45.4           69871.0   \n",
       "\n",
       "   Per Capita Income  Poverty Count  Poverty Rate  crime rate crime rating  \\\n",
       "0            16176.0        10686.0     25.023417    0.693916         high   \n",
       "1            12164.0        20916.0     36.701820    0.668585         high   \n",
       "2            16574.0         5229.0     14.720455    0.240893         high   \n",
       "3            31039.0         1199.0      5.104300    0.198808         high   \n",
       "4            34353.0         1254.0      6.861833    0.162572         high   \n",
       "\n",
       "   crime encode  encode  \n",
       "0           2.0     1.0  \n",
       "1           2.0     1.0  \n",
       "2           2.0     1.0  \n",
       "3           2.0     1.0  \n",
       "4           2.0     1.0  "
      ]
     },
     "execution_count": 64,
     "metadata": {},
     "output_type": "execute_result"
    }
   ],
   "source": [
    "for index, row in census.iterrows():\n",
    "    if(row['crime rating'] == \"high\"):\n",
    "        blah = 1\n",
    "    elif(row['crime rating'] == 'medium'):\n",
    "        blah = 0\n",
    "    else:\n",
    "        blah = -1\n",
    "    census.at[index, 'encode'] = blah\n",
    "census.head()"
   ]
  },
  {
   "cell_type": "code",
   "execution_count": 65,
   "metadata": {},
   "outputs": [
    {
     "data": {
      "text/plain": [
       "zipcode              145\n",
       "total_crimes         145\n",
       "Population           145\n",
       "Median Age           145\n",
       "Household Income     145\n",
       "Per Capita Income    145\n",
       "Poverty Count        145\n",
       "Poverty Rate         145\n",
       "crime rate           145\n",
       "crime rating         145\n",
       "crime encode         145\n",
       "encode               145\n",
       "dtype: int64"
      ]
     },
     "execution_count": 65,
     "metadata": {},
     "output_type": "execute_result"
    }
   ],
   "source": [
    "census[census[\"crime rating\"]== \"low\"].count()"
   ]
  },
  {
   "cell_type": "code",
   "execution_count": 66,
   "metadata": {},
   "outputs": [],
   "source": [
    "target = census[\"encode\"]\n",
    "target_names = [\"Low\",\"Medium\", \"High\"]"
   ]
  },
  {
   "cell_type": "code",
   "execution_count": 67,
   "metadata": {},
   "outputs": [
    {
     "data": {
      "text/html": [
       "<div>\n",
       "<style scoped>\n",
       "    .dataframe tbody tr th:only-of-type {\n",
       "        vertical-align: middle;\n",
       "    }\n",
       "\n",
       "    .dataframe tbody tr th {\n",
       "        vertical-align: top;\n",
       "    }\n",
       "\n",
       "    .dataframe thead th {\n",
       "        text-align: right;\n",
       "    }\n",
       "</style>\n",
       "<table border=\"1\" class=\"dataframe\">\n",
       "  <thead>\n",
       "    <tr style=\"text-align: right;\">\n",
       "      <th></th>\n",
       "      <th>Poverty Rate</th>\n",
       "      <th>crime rate</th>\n",
       "    </tr>\n",
       "  </thead>\n",
       "  <tbody>\n",
       "    <tr>\n",
       "      <th>0</th>\n",
       "      <td>25.023417</td>\n",
       "      <td>0.693916</td>\n",
       "    </tr>\n",
       "    <tr>\n",
       "      <th>1</th>\n",
       "      <td>36.701820</td>\n",
       "      <td>0.668585</td>\n",
       "    </tr>\n",
       "    <tr>\n",
       "      <th>2</th>\n",
       "      <td>14.720455</td>\n",
       "      <td>0.240893</td>\n",
       "    </tr>\n",
       "    <tr>\n",
       "      <th>3</th>\n",
       "      <td>5.104300</td>\n",
       "      <td>0.198808</td>\n",
       "    </tr>\n",
       "    <tr>\n",
       "      <th>4</th>\n",
       "      <td>6.861833</td>\n",
       "      <td>0.162572</td>\n",
       "    </tr>\n",
       "  </tbody>\n",
       "</table>\n",
       "</div>"
      ],
      "text/plain": [
       "   Poverty Rate  crime rate\n",
       "0     25.023417    0.693916\n",
       "1     36.701820    0.668585\n",
       "2     14.720455    0.240893\n",
       "3      5.104300    0.198808\n",
       "4      6.861833    0.162572"
      ]
     },
     "execution_count": 67,
     "metadata": {},
     "output_type": "execute_result"
    }
   ],
   "source": [
    "#data = census.drop([\"crime_rating\", \"encode\"], axis=1)\n",
    "data = census[[\"Poverty Rate\", \"crime rate\"]]\n",
    "data.head()"
   ]
  },
  {
   "cell_type": "code",
   "execution_count": 68,
   "metadata": {},
   "outputs": [],
   "source": [
    "from sklearn.model_selection import train_test_split\n",
    "X_train, X_test, y_train, y_test = train_test_split(data, target, random_state=42)"
   ]
  },
  {
   "cell_type": "code",
   "execution_count": 69,
   "metadata": {},
   "outputs": [
    {
     "data": {
      "text/plain": [
       "SVC(C=1.0, cache_size=200, class_weight=None, coef0=0.0,\n",
       "  decision_function_shape='ovr', degree=3, gamma='auto', kernel='linear',\n",
       "  max_iter=-1, probability=False, random_state=None, shrinking=True,\n",
       "  tol=0.001, verbose=False)"
      ]
     },
     "execution_count": 69,
     "metadata": {},
     "output_type": "execute_result"
    }
   ],
   "source": [
    "from sklearn.svm import SVC \n",
    "model = SVC(kernel='linear')\n",
    "model.fit(X_train, y_train)"
   ]
  },
  {
   "cell_type": "code",
   "execution_count": 70,
   "metadata": {},
   "outputs": [
    {
     "name": "stdout",
     "output_type": "stream",
     "text": [
      "Test Acc: 0.500\n"
     ]
    }
   ],
   "source": [
    "print('Test Acc: %.3f' % model.score(X_test, y_test))"
   ]
  },
  {
   "cell_type": "code",
   "execution_count": 71,
   "metadata": {},
   "outputs": [
    {
     "name": "stdout",
     "output_type": "stream",
     "text": [
      "             precision    recall  f1-score   support\n",
      "\n",
      "        Low       0.42      0.97      0.58        33\n",
      "     Medium       0.33      0.03      0.05        35\n",
      "       High       0.73      0.52      0.61        42\n",
      "\n",
      "avg / total       0.51      0.50      0.42       110\n",
      "\n"
     ]
    }
   ],
   "source": [
    "from sklearn.metrics import classification_report\n",
    "predictions = model.predict(X_test)\n",
    "print(classification_report(y_test, predictions,\n",
    "                            target_names=target_names))"
   ]
  },
  {
   "cell_type": "code",
   "execution_count": 72,
   "metadata": {},
   "outputs": [],
   "source": [
    "X = np.array(census[[\"Poverty Rate\", \"crime rate\"]])\n",
    "y = np.array(census[\"encode\"])\n"
   ]
  },
  {
   "cell_type": "code",
   "execution_count": 73,
   "metadata": {},
   "outputs": [
    {
     "data": {
      "image/png": "[encoded data removed]",
      "text/plain": [
       "<Figure size 432x288 with 1 Axes>"
      ]
     },
     "metadata": {},
     "output_type": "display_data"
    }
   ],
   "source": [
    "plt.scatter(X[:, 0], X[:, 1], c=y, s=100, cmap=\"bwr\");\n",
    "plt.show()"
   ]
  },
  {
   "cell_type": "code",
   "execution_count": 74,
   "metadata": {},
   "outputs": [
    {
     "ename": "ValueError",
     "evalue": "cannot reshape array of size 585 into shape (65,3)",
     "output_type": "error",
     "traceback": [
      "\u001b[1;31m---------------------------------------------------------------------------\u001b[0m",
      "\u001b[1;31mValueError\u001b[0m                                Traceback (most recent call last)",
      "\u001b[1;32m<ipython-input-74-d4d6327d1d52>\u001b[0m in \u001b[0;36m<module>\u001b[1;34m()\u001b[0m\n\u001b[0;32m     10\u001b[0m \u001b[1;33m\u001b[0m\u001b[0m\n\u001b[0;32m     11\u001b[0m \u001b[1;31m# Put the result into a color plot\u001b[0m\u001b[1;33m\u001b[0m\u001b[1;33m\u001b[0m\u001b[0m\n\u001b[1;32m---> 12\u001b[1;33m \u001b[0mZ\u001b[0m \u001b[1;33m=\u001b[0m \u001b[0mZ\u001b[0m\u001b[1;33m.\u001b[0m\u001b[0mreshape\u001b[0m\u001b[1;33m(\u001b[0m\u001b[0mXX\u001b[0m\u001b[1;33m.\u001b[0m\u001b[0mshape\u001b[0m\u001b[1;33m)\u001b[0m\u001b[1;33m\u001b[0m\u001b[0m\n\u001b[0m\u001b[0;32m     13\u001b[0m \u001b[1;31m#plt.pcolormesh(XX, YY, Z > 0, cmap=plt.cm.Paired)\u001b[0m\u001b[1;33m\u001b[0m\u001b[1;33m\u001b[0m\u001b[0m\n\u001b[0;32m     14\u001b[0m plt.contour(XX, YY, Z, colors=['k', 'k', 'k'],\n",
      "\u001b[1;31mValueError\u001b[0m: cannot reshape array of size 585 into shape (65,3)"
     ]
    }
   ],
   "source": [
    "# WARNING! BOILERPLATE CODE HERE!\n",
    "# Plot the decision boundaries\n",
    "x_min = X[:, 0].min()\n",
    "x_max = X[:, 0].max()\n",
    "y_min = X[:, 1].min()\n",
    "y_max = X[:, 1].max()\n",
    "\n",
    "XX, YY = np.mgrid[x_min:x_max, y_min:y_max]\n",
    "Z = model.decision_function(np.c_[XX.ravel(), YY.ravel()])\n",
    "\n",
    "# Put the result into a color plot\n",
    "Z = Z.reshape(XX.shape)\n",
    "#plt.pcolormesh(XX, YY, Z > 0, cmap=plt.cm.Paired)\n",
    "plt.contour(XX, YY, Z, colors=['k', 'k', 'k'],\n",
    "            linestyles=['--', '-', '--'], levels=[-.5, 0, .5])\n",
    "plt.scatter(X[:, 0], X[:, 1], c=y, cmap='bwr', edgecolor='k', s=100)\n",
    "plt.show()"
   ]
  },
  {
   "cell_type": "code",
   "execution_count": null,
   "metadata": {},
   "outputs": [],
   "source": [
    "from sklearn.model_selection import GridSearchCV\n",
    "param_grid = {'C': [1, 5, 10, 50],\n",
    "              'gamma': [0.0001, 0.0005, 0.001, 0.005]}\n",
    "grid = GridSearchCV(model, param_grid, verbose=3)\n"
   ]
  },
  {
   "cell_type": "code",
   "execution_count": null,
   "metadata": {},
   "outputs": [],
   "source": [
    "grid.fit(X_train, y_train)\n",
    "print(grid.best_params_)\n",
    "print(grid.best_score_)\n",
    "predictions = grid.predict(X_test)"
   ]
  },
  {
   "cell_type": "code",
   "execution_count": null,
   "metadata": {},
   "outputs": [],
   "source": [
    "from sklearn.metrics import classification_report\n",
    "print(classification_report(y_test, predictions,\n",
    "                            target_names=target_names))"
   ]
  },
  {
   "cell_type": "code",
   "execution_count": null,
   "metadata": {},
   "outputs": [],
   "source": []
  },
  {
   "cell_type": "code",
   "execution_count": null,
   "metadata": {},
   "outputs": [],
   "source": []
  },
  {
   "cell_type": "code",
   "execution_count": null,
   "metadata": {},
   "outputs": [],
   "source": []
  },
  {
   "cell_type": "code",
   "execution_count": null,
   "metadata": {},
   "outputs": [],
   "source": []
  },
  {
   "cell_type": "code",
   "execution_count": null,
   "metadata": {},
   "outputs": [],
   "source": []
  }
 ],
 "metadata": {
  "kernelspec": {
   "display_name": "Python 3",
   "language": "python",
   "name": "python3"
  },
  "language_info": {
   "codemirror_mode": {
    "name": "ipython",
    "version": 3
   },
   "file_extension": ".py",
   "mimetype": "text/x-python",
   "name": "python",
   "nbconvert_exporter": "python",
   "pygments_lexer": "ipython3",
   "version": "3.6.5"
  }
 },
 "nbformat": 4,
 "nbformat_minor": 2
}
