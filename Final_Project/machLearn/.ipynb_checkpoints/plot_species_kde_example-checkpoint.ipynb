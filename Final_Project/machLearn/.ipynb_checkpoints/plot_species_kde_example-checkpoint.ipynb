{
 "cells": [
  {
   "cell_type": "code",
   "execution_count": 1,
   "metadata": {},
   "outputs": [],
   "source": [
    "%matplotlib inline"
   ]
  },
  {
   "cell_type": "markdown",
   "metadata": {},
   "source": [
    "\n",
    "# Kernel Density Estimate of Species Distributions\n",
    "\n",
    "This shows an example of a neighbors-based query (in particular a kernel\n",
    "density estimate) on geospatial data, using a Ball Tree built upon the\n",
    "Haversine distance metric -- i.e. distances over points in latitude/longitude.\n",
    "The dataset is provided by Phillips et. al. (2006).\n",
    "If available, the example uses\n",
    "`basemap <http://matplotlib.org/basemap>`_\n",
    "to plot the coast lines and national boundaries of South America.\n",
    "\n",
    "This example does not perform any learning over the data\n",
    "(see `sphx_glr_auto_examples_applications_plot_species_distribution_modeling.py` for\n",
    "an example of classification based on the attributes in this dataset).  It\n",
    "simply shows the kernel density estimate of observed data points in\n",
    "geospatial coordinates.\n",
    "\n",
    "The two species are:\n",
    "\n",
    " - `\"Bradypus variegatus\"\n",
    "   <http://www.iucnredlist.org/apps/redlist/details/3038/0>`_ ,\n",
    "   the Brown-throated Sloth.\n",
    "\n",
    " - `\"Microryzomys minutus\"\n",
    "   <http://www.iucnredlist.org/details/13408/0>`_ ,\n",
    "   also known as the Forest Small Rice Rat, a rodent that lives in Peru,\n",
    "   Colombia, Ecuador, Peru, and Venezuela.\n",
    "\n",
    "References\n",
    "----------\n",
    "\n",
    " * `\"Maximum entropy modeling of species geographic distributions\"\n",
    "   <http://rob.schapire.net/papers/ecolmod.pdf>`_\n",
    "   S. J. Phillips, R. P. Anderson, R. E. Schapire - Ecological Modelling,\n",
    "   190:231-259, 2006.\n",
    "\n"
   ]
  },
  {
   "cell_type": "code",
   "execution_count": 2,
   "metadata": {},
   "outputs": [],
   "source": [
    "# Author: Jake Vanderplas <jakevdp@cs.washington.edu>\n",
    "#\n",
    "# License: BSD 3 clause\n",
    "\n",
    "import numpy as np\n",
    "import matplotlib.pyplot as plt\n",
    "from sklearn.datasets import fetch_species_distributions\n",
    "from sklearn.datasets.species_distributions import construct_grids\n",
    "from sklearn.neighbors import KernelDensity"
   ]
  },
  {
   "cell_type": "code",
   "execution_count": 3,
   "metadata": {},
   "outputs": [],
   "source": [
    "# if basemap is available, we'll use it.\n",
    "# otherwise, we'll improvise later...\n",
    "try:\n",
    "    from mpl_toolkits.basemap import Basemap\n",
    "    basemap = True\n",
    "except ImportError:\n",
    "    basemap = False"
   ]
  },
  {
   "cell_type": "code",
   "execution_count": 4,
   "metadata": {},
   "outputs": [
    {
     "name": "stderr",
     "output_type": "stream",
     "text": [
      "Downloading species data from https://ndownloader.figshare.com/files/5976075 to /Users/a/scikit_learn_data\n",
      "Downloading coverage data from https://ndownloader.figshare.com/files/5976078 to /Users/a/scikit_learn_data\n"
     ]
    }
   ],
   "source": [
    "# Get matrices/arrays of species IDs and locations\n",
    "data = fetch_species_distributions()\n",
    "species_names = ['Bradypus Variegatus', 'Microryzomys Minutus']\n",
    "\n",
    "Xtrain = np.vstack([data['train']['dd lat'],\n",
    "                    data['train']['dd long']]).T\n",
    "ytrain = np.array([d.decode('ascii').startswith('micro')\n",
    "                  for d in data['train']['species']], dtype='int')\n",
    "Xtrain *= np.pi / 180.  # Convert lat/long to radians"
   ]
  },
  {
   "cell_type": "code",
   "execution_count": 11,
   "metadata": {},
   "outputs": [
    {
     "name": "stdout",
     "output_type": "stream",
     "text": [
      "[[-17.85    -64.7    ]\n",
      " [-16.3333  -67.8333 ]\n",
      " [-16.3     -67.8833 ]\n",
      " ...\n",
      " [ -0.3     -78.4667 ]\n",
      " [  0.6     -77.8167 ]\n",
      " [  4.96667 -75.3833 ]]\n"
     ]
    }
   ],
   "source": [
    "# .T at end means transpose\n",
    "Xtrain = np.vstack([data['train']['dd lat'],\n",
    "                    data['train']['dd long']]).T\n",
    "print(Xtrain)"
   ]
  },
  {
   "cell_type": "code",
   "execution_count": 10,
   "metadata": {},
   "outputs": [
    {
     "name": "stdout",
     "output_type": "stream",
     "text": [
      "[[-17.85    -16.3333  -16.3     ...  -0.3       0.6       4.96667]\n",
      " [-64.7     -67.8333  -67.8833  ... -78.4667  -77.8167  -75.3833 ]]\n"
     ]
    }
   ],
   "source": [
    "Xtrain = np.vstack([data['train']['dd lat'],\n",
    "                    data['train']['dd long']])\n",
    "print(Xtrain)"
   ]
  },
  {
   "cell_type": "code",
   "execution_count": 13,
   "metadata": {},
   "outputs": [
    {
     "name": "stdout",
     "output_type": "stream",
     "text": [
      "[1 1 1 ... 1 1 1]\n"
     ]
    }
   ],
   "source": [
    "print(ytrain)"
   ]
  },
  {
   "cell_type": "code",
   "execution_count": 5,
   "metadata": {},
   "outputs": [],
   "source": [
    "# Set up the data grid for the contour plot\n",
    "xgrid, ygrid = construct_grids(data)\n",
    "X, Y = np.meshgrid(xgrid[::5], ygrid[::5][::-1])\n",
    "land_reference = data.coverages[6][::5, ::5]\n",
    "land_mask = (land_reference > -9999).ravel()"
   ]
  },
  {
   "cell_type": "code",
   "execution_count": 6,
   "metadata": {},
   "outputs": [],
   "source": [
    "xy = np.vstack([Y.ravel(), X.ravel()]).T\n",
    "xy = xy[land_mask]\n",
    "xy *= np.pi / 180."
   ]
  },
  {
   "cell_type": "code",
   "execution_count": 7,
   "metadata": {},
   "outputs": [
    {
     "name": "stdout",
     "output_type": "stream",
     "text": [
      "[[ 0.41015237 -1.35699349]\n",
      " [ 0.41015237 -1.35263017]\n",
      " [ 0.41015237 -1.33081355]\n",
      " ...\n",
      " [-0.97738438 -1.17809725]\n",
      " [-0.97738438 -1.17373392]\n",
      " [-0.97738438 -1.1693706 ]]\n"
     ]
    }
   ],
   "source": []
  },
  {
   "cell_type": "code",
   "execution_count": null,
   "metadata": {},
   "outputs": [],
   "source": [
    "# Plot map of South America with distributions of each species\n",
    "fig = plt.figure()\n",
    "fig.subplots_adjust(left=0.05, right=0.95, wspace=0.05)\n",
    "\n",
    "for i in range(2):\n",
    "    plt.subplot(1, 2, i + 1)\n",
    "\n",
    "    # construct a kernel density estimate of the distribution\n",
    "    print(\" - computing KDE in spherical coordinates\")\n",
    "    kde = KernelDensity(bandwidth=0.04, metric='haversine',\n",
    "                        kernel='gaussian', algorithm='ball_tree')\n",
    "    kde.fit(Xtrain[ytrain == i])\n",
    "\n",
    "    # evaluate only on the land: -9999 indicates ocean\n",
    "    Z = np.full(land_mask.shape[0], -9999, dtype='int')\n",
    "    Z[land_mask] = np.exp(kde.score_samples(xy))\n",
    "    Z = Z.reshape(X.shape)\n",
    "\n",
    "    # plot contours of the density\n",
    "    levels = np.linspace(0, Z.max(), 25)\n",
    "    plt.contourf(X, Y, Z, levels=levels, cmap=plt.cm.Reds)\n",
    "\n",
    "    if basemap:\n",
    "        print(\" - plot coastlines using basemap\")\n",
    "        m = Basemap(projection='cyl', llcrnrlat=Y.min(),\n",
    "                    urcrnrlat=Y.max(), llcrnrlon=X.min(),\n",
    "                    urcrnrlon=X.max(), resolution='c')\n",
    "        m.drawcoastlines()\n",
    "        m.drawcountries()\n",
    "    else:\n",
    "        print(\" - plot coastlines from coverage\")\n",
    "        plt.contour(X, Y, land_reference,\n",
    "                    levels=[-9998], colors=\"k\",\n",
    "                    linestyles=\"solid\")\n",
    "        plt.xticks([])\n",
    "        plt.yticks([])\n",
    "\n",
    "    plt.title(species_names[i])\n",
    "\n",
    "plt.show()"
   ]
  }
 ],
 "metadata": {
  "kernelspec": {
   "display_name": "Python 3",
   "language": "python",
   "name": "python3"
  },
  "language_info": {
   "codemirror_mode": {
    "name": "ipython",
    "version": 3
   },
   "file_extension": ".py",
   "mimetype": "text/x-python",
   "name": "python",
   "nbconvert_exporter": "python",
   "pygments_lexer": "ipython3",
   "version": "3.6.4"
  }
 },
 "nbformat": 4,
 "nbformat_minor": 1
}
