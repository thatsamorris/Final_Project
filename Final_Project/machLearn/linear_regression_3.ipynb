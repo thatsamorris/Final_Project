{
 "cells": [
  {
   "cell_type": "code",
   "execution_count": 1,
   "metadata": {},
   "outputs": [],
   "source": [
    " %matplotlib inline\n",
    "import matplotlib.pyplot as plt\n",
    "import numpy as np\n",
    "import pandas as pd"
   ]
  },
  {
   "cell_type": "code",
   "execution_count": 6,
   "metadata": {},
   "outputs": [
    {
     "data": {
      "text/html": [
       "<div>\n",
       "<style scoped>\n",
       "    .dataframe tbody tr th:only-of-type {\n",
       "        vertical-align: middle;\n",
       "    }\n",
       "\n",
       "    .dataframe tbody tr th {\n",
       "        vertical-align: top;\n",
       "    }\n",
       "\n",
       "    .dataframe thead th {\n",
       "        text-align: right;\n",
       "    }\n",
       "</style>\n",
       "<table border=\"1\" class=\"dataframe\">\n",
       "  <thead>\n",
       "    <tr style=\"text-align: right;\">\n",
       "      <th></th>\n",
       "      <th>Zipcode</th>\n",
       "      <th>Population</th>\n",
       "      <th>Median Age</th>\n",
       "      <th>Household Income</th>\n",
       "      <th>Per Capita Income</th>\n",
       "      <th>Poverty Count</th>\n",
       "      <th>Poverty Rate</th>\n",
       "      <th>crime_rate</th>\n",
       "    </tr>\n",
       "  </thead>\n",
       "  <tbody>\n",
       "    <tr>\n",
       "      <th>0</th>\n",
       "      <td>64120</td>\n",
       "      <td>346</td>\n",
       "      <td>58.5</td>\n",
       "      <td>57674</td>\n",
       "      <td>33291</td>\n",
       "      <td>43</td>\n",
       "      <td>12.427746</td>\n",
       "      <td>1.141618</td>\n",
       "    </tr>\n",
       "    <tr>\n",
       "      <th>1</th>\n",
       "      <td>64161</td>\n",
       "      <td>328</td>\n",
       "      <td>43.8</td>\n",
       "      <td>63281</td>\n",
       "      <td>31019</td>\n",
       "      <td>15</td>\n",
       "      <td>4.573171</td>\n",
       "      <td>0.490854</td>\n",
       "    </tr>\n",
       "    <tr>\n",
       "      <th>2</th>\n",
       "      <td>64106</td>\n",
       "      <td>8125</td>\n",
       "      <td>28.1</td>\n",
       "      <td>25649</td>\n",
       "      <td>18949</td>\n",
       "      <td>3773</td>\n",
       "      <td>46.436923</td>\n",
       "      <td>0.347446</td>\n",
       "    </tr>\n",
       "    <tr>\n",
       "      <th>3</th>\n",
       "      <td>64127</td>\n",
       "      <td>15419</td>\n",
       "      <td>34.5</td>\n",
       "      <td>21494</td>\n",
       "      <td>12924</td>\n",
       "      <td>6167</td>\n",
       "      <td>39.996109</td>\n",
       "      <td>0.228484</td>\n",
       "    </tr>\n",
       "    <tr>\n",
       "      <th>4</th>\n",
       "      <td>64130</td>\n",
       "      <td>21000</td>\n",
       "      <td>39.2</td>\n",
       "      <td>28493</td>\n",
       "      <td>15238</td>\n",
       "      <td>6003</td>\n",
       "      <td>28.585714</td>\n",
       "      <td>0.224619</td>\n",
       "    </tr>\n",
       "  </tbody>\n",
       "</table>\n",
       "</div>"
      ],
      "text/plain": [
       "   Zipcode  Population  Median Age  Household Income  Per Capita Income  \\\n",
       "0    64120         346        58.5             57674              33291   \n",
       "1    64161         328        43.8             63281              31019   \n",
       "2    64106        8125        28.1             25649              18949   \n",
       "3    64127       15419        34.5             21494              12924   \n",
       "4    64130       21000        39.2             28493              15238   \n",
       "\n",
       "   Poverty Count  Poverty Rate  crime_rate  \n",
       "0             43     12.427746    1.141618  \n",
       "1             15      4.573171    0.490854  \n",
       "2           3773     46.436923    0.347446  \n",
       "3           6167     39.996109    0.228484  \n",
       "4           6003     28.585714    0.224619  "
      ]
     },
     "execution_count": 6,
     "metadata": {},
     "output_type": "execute_result"
    }
   ],
   "source": [
    "kansascity = pd.read_csv('data/crime and census/combined_cleaned_encode.csv')\n",
    "kansascity = kansascity.drop(['crime_rating'], axis = 1)\n",
    "kansascity = kansascity.rename(index=str, columns={\n",
    "    \"MedianAge\": \"Median Age\", \n",
    "    \"HouseholdIncome\": \"Household Income\",\n",
    "    \"PerCapitaIncome\": \"Per Capita Income\",\n",
    "    \"PovertyCount\": \"Poverty Count\",\n",
    "    \"PovertyRate\": \"Poverty Rate\"})\n",
    "kansascity.head()"
   ]
  },
  {
   "cell_type": "code",
   "execution_count": 5,
   "metadata": {},
   "outputs": [
    {
     "data": {
      "text/plain": [
       "Zipcode               False\n",
       "Population            False\n",
       "Median Age            False\n",
       "Household Income      False\n",
       "Per Capital Income    False\n",
       "Poverty Count         False\n",
       "Poverty Rate          False\n",
       "crime_rate            False\n",
       "dtype: bool"
      ]
     },
     "execution_count": 5,
     "metadata": {},
     "output_type": "execute_result"
    }
   ],
   "source": [
    "kansascity.isnull().any()"
   ]
  },
  {
   "cell_type": "code",
   "execution_count": 60,
   "metadata": {},
   "outputs": [],
   "source": [
    "kansascity = kansascity.rename(index=str, columns={\"Zipcode\": \"zipcode\"})"
   ]
  },
  {
   "cell_type": "code",
   "execution_count": 7,
   "metadata": {},
   "outputs": [
    {
     "data": {
      "text/html": [
       "<div>\n",
       "<style scoped>\n",
       "    .dataframe tbody tr th:only-of-type {\n",
       "        vertical-align: middle;\n",
       "    }\n",
       "\n",
       "    .dataframe tbody tr th {\n",
       "        vertical-align: top;\n",
       "    }\n",
       "\n",
       "    .dataframe thead th {\n",
       "        text-align: right;\n",
       "    }\n",
       "</style>\n",
       "<table border=\"1\" class=\"dataframe\">\n",
       "  <thead>\n",
       "    <tr style=\"text-align: right;\">\n",
       "      <th></th>\n",
       "      <th>zipcode</th>\n",
       "      <th>total_crimes</th>\n",
       "      <th>Population</th>\n",
       "      <th>Median Age</th>\n",
       "      <th>Household Income</th>\n",
       "      <th>Per Capita Income</th>\n",
       "      <th>Poverty Count</th>\n",
       "      <th>Poverty Rate</th>\n",
       "    </tr>\n",
       "  </thead>\n",
       "  <tbody>\n",
       "    <tr>\n",
       "      <th>0</th>\n",
       "      <td>30308</td>\n",
       "      <td>2074</td>\n",
       "      <td>16434.0</td>\n",
       "      <td>30.2</td>\n",
       "      <td>51584.0</td>\n",
       "      <td>42155.0</td>\n",
       "      <td>3503.0</td>\n",
       "      <td>21.315565</td>\n",
       "    </tr>\n",
       "    <tr>\n",
       "      <th>1</th>\n",
       "      <td>30363</td>\n",
       "      <td>1726</td>\n",
       "      <td>2845.0</td>\n",
       "      <td>27.8</td>\n",
       "      <td>56806.0</td>\n",
       "      <td>41158.0</td>\n",
       "      <td>687.0</td>\n",
       "      <td>24.147627</td>\n",
       "    </tr>\n",
       "    <tr>\n",
       "      <th>2</th>\n",
       "      <td>30311</td>\n",
       "      <td>1559</td>\n",
       "      <td>36074.0</td>\n",
       "      <td>36.4</td>\n",
       "      <td>27651.0</td>\n",
       "      <td>17213.0</td>\n",
       "      <td>12957.0</td>\n",
       "      <td>35.917836</td>\n",
       "    </tr>\n",
       "    <tr>\n",
       "      <th>3</th>\n",
       "      <td>30310</td>\n",
       "      <td>1493</td>\n",
       "      <td>27775.0</td>\n",
       "      <td>36.6</td>\n",
       "      <td>22861.0</td>\n",
       "      <td>14667.0</td>\n",
       "      <td>10632.0</td>\n",
       "      <td>38.279028</td>\n",
       "    </tr>\n",
       "    <tr>\n",
       "      <th>4</th>\n",
       "      <td>30318</td>\n",
       "      <td>1378</td>\n",
       "      <td>53622.0</td>\n",
       "      <td>29.7</td>\n",
       "      <td>39421.0</td>\n",
       "      <td>25451.0</td>\n",
       "      <td>16432.0</td>\n",
       "      <td>30.644139</td>\n",
       "    </tr>\n",
       "  </tbody>\n",
       "</table>\n",
       "</div>"
      ],
      "text/plain": [
       "   zipcode  total_crimes  Population  Median Age  Household Income  \\\n",
       "0    30308          2074     16434.0        30.2           51584.0   \n",
       "1    30363          1726      2845.0        27.8           56806.0   \n",
       "2    30311          1559     36074.0        36.4           27651.0   \n",
       "3    30310          1493     27775.0        36.6           22861.0   \n",
       "4    30318          1378     53622.0        29.7           39421.0   \n",
       "\n",
       "   Per Capita Income  Poverty Count  Poverty Rate  \n",
       "0            42155.0         3503.0     21.315565  \n",
       "1            41158.0          687.0     24.147627  \n",
       "2            17213.0        12957.0     35.917836  \n",
       "3            14667.0        10632.0     38.279028  \n",
       "4            25451.0        16432.0     30.644139  "
      ]
     },
     "execution_count": 7,
     "metadata": {},
     "output_type": "execute_result"
    }
   ],
   "source": [
    "atlanta = pd.read_csv('data/crime and census/atlanta_census.csv')\n",
    "atlanta.head()"
   ]
  },
  {
   "cell_type": "code",
   "execution_count": 8,
   "metadata": {},
   "outputs": [
    {
     "data": {
      "text/html": [
       "<div>\n",
       "<style scoped>\n",
       "    .dataframe tbody tr th:only-of-type {\n",
       "        vertical-align: middle;\n",
       "    }\n",
       "\n",
       "    .dataframe tbody tr th {\n",
       "        vertical-align: top;\n",
       "    }\n",
       "\n",
       "    .dataframe thead th {\n",
       "        text-align: right;\n",
       "    }\n",
       "</style>\n",
       "<table border=\"1\" class=\"dataframe\">\n",
       "  <thead>\n",
       "    <tr style=\"text-align: right;\">\n",
       "      <th></th>\n",
       "      <th>zipcode</th>\n",
       "      <th>total_crimes</th>\n",
       "      <th>Population</th>\n",
       "      <th>Median Age</th>\n",
       "      <th>Household Income</th>\n",
       "      <th>Per Capita Income</th>\n",
       "      <th>Poverty Count</th>\n",
       "      <th>Poverty Rate</th>\n",
       "      <th>crime_rate</th>\n",
       "    </tr>\n",
       "  </thead>\n",
       "  <tbody>\n",
       "    <tr>\n",
       "      <th>0</th>\n",
       "      <td>30308</td>\n",
       "      <td>2074</td>\n",
       "      <td>16434.0</td>\n",
       "      <td>30.2</td>\n",
       "      <td>51584.0</td>\n",
       "      <td>42155.0</td>\n",
       "      <td>3503.0</td>\n",
       "      <td>21.315565</td>\n",
       "      <td>0.126202</td>\n",
       "    </tr>\n",
       "    <tr>\n",
       "      <th>1</th>\n",
       "      <td>30363</td>\n",
       "      <td>1726</td>\n",
       "      <td>2845.0</td>\n",
       "      <td>27.8</td>\n",
       "      <td>56806.0</td>\n",
       "      <td>41158.0</td>\n",
       "      <td>687.0</td>\n",
       "      <td>24.147627</td>\n",
       "      <td>0.606678</td>\n",
       "    </tr>\n",
       "    <tr>\n",
       "      <th>2</th>\n",
       "      <td>30311</td>\n",
       "      <td>1559</td>\n",
       "      <td>36074.0</td>\n",
       "      <td>36.4</td>\n",
       "      <td>27651.0</td>\n",
       "      <td>17213.0</td>\n",
       "      <td>12957.0</td>\n",
       "      <td>35.917836</td>\n",
       "      <td>0.043217</td>\n",
       "    </tr>\n",
       "    <tr>\n",
       "      <th>3</th>\n",
       "      <td>30310</td>\n",
       "      <td>1493</td>\n",
       "      <td>27775.0</td>\n",
       "      <td>36.6</td>\n",
       "      <td>22861.0</td>\n",
       "      <td>14667.0</td>\n",
       "      <td>10632.0</td>\n",
       "      <td>38.279028</td>\n",
       "      <td>0.053753</td>\n",
       "    </tr>\n",
       "    <tr>\n",
       "      <th>4</th>\n",
       "      <td>30318</td>\n",
       "      <td>1378</td>\n",
       "      <td>53622.0</td>\n",
       "      <td>29.7</td>\n",
       "      <td>39421.0</td>\n",
       "      <td>25451.0</td>\n",
       "      <td>16432.0</td>\n",
       "      <td>30.644139</td>\n",
       "      <td>0.025698</td>\n",
       "    </tr>\n",
       "  </tbody>\n",
       "</table>\n",
       "</div>"
      ],
      "text/plain": [
       "   zipcode  total_crimes  Population  Median Age  Household Income  \\\n",
       "0    30308          2074     16434.0        30.2           51584.0   \n",
       "1    30363          1726      2845.0        27.8           56806.0   \n",
       "2    30311          1559     36074.0        36.4           27651.0   \n",
       "3    30310          1493     27775.0        36.6           22861.0   \n",
       "4    30318          1378     53622.0        29.7           39421.0   \n",
       "\n",
       "   Per Capita Income  Poverty Count  Poverty Rate  crime_rate  \n",
       "0            42155.0         3503.0     21.315565    0.126202  \n",
       "1            41158.0          687.0     24.147627    0.606678  \n",
       "2            17213.0        12957.0     35.917836    0.043217  \n",
       "3            14667.0        10632.0     38.279028    0.053753  \n",
       "4            25451.0        16432.0     30.644139    0.025698  "
      ]
     },
     "execution_count": 8,
     "metadata": {},
     "output_type": "execute_result"
    }
   ],
   "source": [
    "# atlanta[\"crime_rate\"] = \"\"\n",
    "atlanta[\"crime_rate\"] = atlanta[\"total_crimes\"]/atlanta[\"Population\"]\n",
    "atlanta.head()"
   ]
  },
  {
   "cell_type": "code",
   "execution_count": 9,
   "metadata": {},
   "outputs": [
    {
     "data": {
      "text/html": [
       "<div>\n",
       "<style scoped>\n",
       "    .dataframe tbody tr th:only-of-type {\n",
       "        vertical-align: middle;\n",
       "    }\n",
       "\n",
       "    .dataframe tbody tr th {\n",
       "        vertical-align: top;\n",
       "    }\n",
       "\n",
       "    .dataframe thead th {\n",
       "        text-align: right;\n",
       "    }\n",
       "</style>\n",
       "<table border=\"1\" class=\"dataframe\">\n",
       "  <thead>\n",
       "    <tr style=\"text-align: right;\">\n",
       "      <th></th>\n",
       "      <th>zipcode</th>\n",
       "      <th>Population</th>\n",
       "      <th>Median Age</th>\n",
       "      <th>Household Income</th>\n",
       "      <th>Per Capita Income</th>\n",
       "      <th>Poverty Count</th>\n",
       "      <th>Poverty Rate</th>\n",
       "      <th>crime_rate</th>\n",
       "    </tr>\n",
       "  </thead>\n",
       "  <tbody>\n",
       "    <tr>\n",
       "      <th>0</th>\n",
       "      <td>30308</td>\n",
       "      <td>16434.0</td>\n",
       "      <td>30.2</td>\n",
       "      <td>51584.0</td>\n",
       "      <td>42155.0</td>\n",
       "      <td>3503.0</td>\n",
       "      <td>21.315565</td>\n",
       "      <td>0.126202</td>\n",
       "    </tr>\n",
       "    <tr>\n",
       "      <th>1</th>\n",
       "      <td>30363</td>\n",
       "      <td>2845.0</td>\n",
       "      <td>27.8</td>\n",
       "      <td>56806.0</td>\n",
       "      <td>41158.0</td>\n",
       "      <td>687.0</td>\n",
       "      <td>24.147627</td>\n",
       "      <td>0.606678</td>\n",
       "    </tr>\n",
       "    <tr>\n",
       "      <th>2</th>\n",
       "      <td>30311</td>\n",
       "      <td>36074.0</td>\n",
       "      <td>36.4</td>\n",
       "      <td>27651.0</td>\n",
       "      <td>17213.0</td>\n",
       "      <td>12957.0</td>\n",
       "      <td>35.917836</td>\n",
       "      <td>0.043217</td>\n",
       "    </tr>\n",
       "    <tr>\n",
       "      <th>3</th>\n",
       "      <td>30310</td>\n",
       "      <td>27775.0</td>\n",
       "      <td>36.6</td>\n",
       "      <td>22861.0</td>\n",
       "      <td>14667.0</td>\n",
       "      <td>10632.0</td>\n",
       "      <td>38.279028</td>\n",
       "      <td>0.053753</td>\n",
       "    </tr>\n",
       "    <tr>\n",
       "      <th>4</th>\n",
       "      <td>30318</td>\n",
       "      <td>53622.0</td>\n",
       "      <td>29.7</td>\n",
       "      <td>39421.0</td>\n",
       "      <td>25451.0</td>\n",
       "      <td>16432.0</td>\n",
       "      <td>30.644139</td>\n",
       "      <td>0.025698</td>\n",
       "    </tr>\n",
       "  </tbody>\n",
       "</table>\n",
       "</div>"
      ],
      "text/plain": [
       "   zipcode  Population  Median Age  Household Income  Per Capita Income  \\\n",
       "0    30308     16434.0        30.2           51584.0            42155.0   \n",
       "1    30363      2845.0        27.8           56806.0            41158.0   \n",
       "2    30311     36074.0        36.4           27651.0            17213.0   \n",
       "3    30310     27775.0        36.6           22861.0            14667.0   \n",
       "4    30318     53622.0        29.7           39421.0            25451.0   \n",
       "\n",
       "   Poverty Count  Poverty Rate  crime_rate  \n",
       "0         3503.0     21.315565    0.126202  \n",
       "1          687.0     24.147627    0.606678  \n",
       "2        12957.0     35.917836    0.043217  \n",
       "3        10632.0     38.279028    0.053753  \n",
       "4        16432.0     30.644139    0.025698  "
      ]
     },
     "execution_count": 9,
     "metadata": {},
     "output_type": "execute_result"
    }
   ],
   "source": [
    "atlanta = atlanta.drop([\"total_crimes\"], axis=1)\n",
    "atlanta.head()"
   ]
  },
  {
   "cell_type": "code",
   "execution_count": 13,
   "metadata": {},
   "outputs": [
    {
     "data": {
      "text/plain": [
       "(34, 8)"
      ]
     },
     "execution_count": 13,
     "metadata": {},
     "output_type": "execute_result"
    }
   ],
   "source": [
    "atlanta.shape"
   ]
  },
  {
   "cell_type": "code",
   "execution_count": 15,
   "metadata": {},
   "outputs": [
    {
     "data": {
      "text/plain": [
       "(32, 8)"
      ]
     },
     "execution_count": 15,
     "metadata": {},
     "output_type": "execute_result"
    }
   ],
   "source": [
    "atl = atlanta.dropna()\n",
    "atlanta = atl\n",
    "atlanta.shape"
   ]
  },
  {
   "cell_type": "code",
   "execution_count": 17,
   "metadata": {
    "scrolled": true
   },
   "outputs": [
    {
     "data": {
      "text/html": [
       "<div>\n",
       "<style scoped>\n",
       "    .dataframe tbody tr th:only-of-type {\n",
       "        vertical-align: middle;\n",
       "    }\n",
       "\n",
       "    .dataframe tbody tr th {\n",
       "        vertical-align: top;\n",
       "    }\n",
       "\n",
       "    .dataframe thead th {\n",
       "        text-align: right;\n",
       "    }\n",
       "</style>\n",
       "<table border=\"1\" class=\"dataframe\">\n",
       "  <thead>\n",
       "    <tr style=\"text-align: right;\">\n",
       "      <th></th>\n",
       "      <th>zipcode</th>\n",
       "      <th>Population</th>\n",
       "      <th>Median Age</th>\n",
       "      <th>Household Income</th>\n",
       "      <th>Per Capita Income</th>\n",
       "      <th>Poverty Count</th>\n",
       "      <th>Poverty Rate</th>\n",
       "      <th>crime_rate</th>\n",
       "    </tr>\n",
       "  </thead>\n",
       "  <tbody>\n",
       "    <tr>\n",
       "      <th>0</th>\n",
       "      <td>21201</td>\n",
       "      <td>15867.0</td>\n",
       "      <td>29.5</td>\n",
       "      <td>27465.0</td>\n",
       "      <td>26154.0</td>\n",
       "      <td>5651.0</td>\n",
       "      <td>35.614798</td>\n",
       "      <td>1.913027</td>\n",
       "    </tr>\n",
       "    <tr>\n",
       "      <th>1</th>\n",
       "      <td>21217</td>\n",
       "      <td>40443.0</td>\n",
       "      <td>33.2</td>\n",
       "      <td>26187.0</td>\n",
       "      <td>18309.0</td>\n",
       "      <td>13434.0</td>\n",
       "      <td>33.217120</td>\n",
       "      <td>0.645377</td>\n",
       "    </tr>\n",
       "    <tr>\n",
       "      <th>2</th>\n",
       "      <td>21231</td>\n",
       "      <td>16801.0</td>\n",
       "      <td>31.5</td>\n",
       "      <td>53750.0</td>\n",
       "      <td>34859.0</td>\n",
       "      <td>4968.0</td>\n",
       "      <td>29.569668</td>\n",
       "      <td>1.546337</td>\n",
       "    </tr>\n",
       "    <tr>\n",
       "      <th>3</th>\n",
       "      <td>21205</td>\n",
       "      <td>16100.0</td>\n",
       "      <td>28.7</td>\n",
       "      <td>25522.0</td>\n",
       "      <td>12944.0</td>\n",
       "      <td>5379.0</td>\n",
       "      <td>33.409938</td>\n",
       "      <td>1.600435</td>\n",
       "    </tr>\n",
       "    <tr>\n",
       "      <th>4</th>\n",
       "      <td>21202</td>\n",
       "      <td>22700.0</td>\n",
       "      <td>31.3</td>\n",
       "      <td>30425.0</td>\n",
       "      <td>20318.0</td>\n",
       "      <td>6154.0</td>\n",
       "      <td>27.110132</td>\n",
       "      <td>1.115639</td>\n",
       "    </tr>\n",
       "  </tbody>\n",
       "</table>\n",
       "</div>"
      ],
      "text/plain": [
       "   zipcode  Population  Median Age  Household Income  Per Capita Income  \\\n",
       "0    21201     15867.0        29.5           27465.0            26154.0   \n",
       "1    21217     40443.0        33.2           26187.0            18309.0   \n",
       "2    21231     16801.0        31.5           53750.0            34859.0   \n",
       "3    21205     16100.0        28.7           25522.0            12944.0   \n",
       "4    21202     22700.0        31.3           30425.0            20318.0   \n",
       "\n",
       "   Poverty Count  Poverty Rate  crime_rate  \n",
       "0         5651.0     35.614798    1.913027  \n",
       "1        13434.0     33.217120    0.645377  \n",
       "2         4968.0     29.569668    1.546337  \n",
       "3         5379.0     33.409938    1.600435  \n",
       "4         6154.0     27.110132    1.115639  "
      ]
     },
     "execution_count": 17,
     "metadata": {},
     "output_type": "execute_result"
    }
   ],
   "source": [
    "baltimore = pd.read_csv('data/crime and census/baltimore_census.csv')\n",
    "baltimore[\"crime_rate\"] = \"\"\n",
    "baltimore[\"crime_rate\"] = baltimore[\"total_crimes\"]/baltimore[\"Population\"]\n",
    "baltimore = baltimore.drop([\"total_crimes\"], axis=1)\n",
    "baltimore.head()"
   ]
  },
  {
   "cell_type": "code",
   "execution_count": 19,
   "metadata": {},
   "outputs": [
    {
     "data": {
      "text/plain": [
       "(27, 8)"
      ]
     },
     "execution_count": 19,
     "metadata": {},
     "output_type": "execute_result"
    }
   ],
   "source": [
    "# baltimore.isnull().any()\n",
    "baltimore.shape"
   ]
  },
  {
   "cell_type": "code",
   "execution_count": 24,
   "metadata": {},
   "outputs": [
    {
     "data": {
      "text/plain": [
       "(26, 8)"
      ]
     },
     "execution_count": 24,
     "metadata": {},
     "output_type": "execute_result"
    }
   ],
   "source": [
    "# baltimore.isnull()\n",
    "baltimore = baltimore.dropna()\n",
    "baltimore.shape\n",
    "# baltimore.head(30)"
   ]
  },
  {
   "cell_type": "code",
   "execution_count": 25,
   "metadata": {},
   "outputs": [
    {
     "data": {
      "text/html": [
       "<div>\n",
       "<style scoped>\n",
       "    .dataframe tbody tr th:only-of-type {\n",
       "        vertical-align: middle;\n",
       "    }\n",
       "\n",
       "    .dataframe tbody tr th {\n",
       "        vertical-align: top;\n",
       "    }\n",
       "\n",
       "    .dataframe thead th {\n",
       "        text-align: right;\n",
       "    }\n",
       "</style>\n",
       "<table border=\"1\" class=\"dataframe\">\n",
       "  <thead>\n",
       "    <tr style=\"text-align: right;\">\n",
       "      <th></th>\n",
       "      <th>zipcode</th>\n",
       "      <th>Population</th>\n",
       "      <th>Median Age</th>\n",
       "      <th>Household Income</th>\n",
       "      <th>Per Capita Income</th>\n",
       "      <th>Poverty Count</th>\n",
       "      <th>Poverty Rate</th>\n",
       "      <th>crime_rate</th>\n",
       "    </tr>\n",
       "  </thead>\n",
       "  <tbody>\n",
       "    <tr>\n",
       "      <th>0</th>\n",
       "      <td>48227</td>\n",
       "      <td>45214.0</td>\n",
       "      <td>35.5</td>\n",
       "      <td>28994.0</td>\n",
       "      <td>15072.0</td>\n",
       "      <td>16064.0</td>\n",
       "      <td>35.528819</td>\n",
       "      <td>0.304065</td>\n",
       "    </tr>\n",
       "    <tr>\n",
       "      <th>1</th>\n",
       "      <td>48235</td>\n",
       "      <td>46368.0</td>\n",
       "      <td>39.3</td>\n",
       "      <td>28897.0</td>\n",
       "      <td>17256.0</td>\n",
       "      <td>15387.0</td>\n",
       "      <td>33.184524</td>\n",
       "      <td>0.250518</td>\n",
       "    </tr>\n",
       "    <tr>\n",
       "      <th>2</th>\n",
       "      <td>48205</td>\n",
       "      <td>38688.0</td>\n",
       "      <td>30.0</td>\n",
       "      <td>26648.0</td>\n",
       "      <td>12743.0</td>\n",
       "      <td>16397.0</td>\n",
       "      <td>42.382651</td>\n",
       "      <td>0.258762</td>\n",
       "    </tr>\n",
       "    <tr>\n",
       "      <th>3</th>\n",
       "      <td>48219</td>\n",
       "      <td>47821.0</td>\n",
       "      <td>36.6</td>\n",
       "      <td>32416.0</td>\n",
       "      <td>17331.0</td>\n",
       "      <td>15274.0</td>\n",
       "      <td>31.939943</td>\n",
       "      <td>0.191359</td>\n",
       "    </tr>\n",
       "    <tr>\n",
       "      <th>4</th>\n",
       "      <td>48224</td>\n",
       "      <td>44877.0</td>\n",
       "      <td>31.7</td>\n",
       "      <td>30457.0</td>\n",
       "      <td>14826.0</td>\n",
       "      <td>16586.0</td>\n",
       "      <td>36.958798</td>\n",
       "      <td>0.181585</td>\n",
       "    </tr>\n",
       "  </tbody>\n",
       "</table>\n",
       "</div>"
      ],
      "text/plain": [
       "   zipcode  Population  Median Age  Household Income  Per Capita Income  \\\n",
       "0    48227     45214.0        35.5           28994.0            15072.0   \n",
       "1    48235     46368.0        39.3           28897.0            17256.0   \n",
       "2    48205     38688.0        30.0           26648.0            12743.0   \n",
       "3    48219     47821.0        36.6           32416.0            17331.0   \n",
       "4    48224     44877.0        31.7           30457.0            14826.0   \n",
       "\n",
       "   Poverty Count  Poverty Rate  crime_rate  \n",
       "0        16064.0     35.528819    0.304065  \n",
       "1        15387.0     33.184524    0.250518  \n",
       "2        16397.0     42.382651    0.258762  \n",
       "3        15274.0     31.939943    0.191359  \n",
       "4        16586.0     36.958798    0.181585  "
      ]
     },
     "execution_count": 25,
     "metadata": {},
     "output_type": "execute_result"
    }
   ],
   "source": [
    "detroit = pd.read_csv('data/crime and census/detroit_census.csv')\n",
    "detroit[\"crime_rate\"] = \"\"\n",
    "detroit[\"crime_rate\"] = detroit[\"total_crimes\"]/detroit[\"Population\"]\n",
    "detroit = detroit.drop([\"total_crimes\"], axis=1)\n",
    "detroit.head()"
   ]
  },
  {
   "cell_type": "code",
   "execution_count": 26,
   "metadata": {},
   "outputs": [
    {
     "data": {
      "text/plain": [
       "(54, 8)"
      ]
     },
     "execution_count": 26,
     "metadata": {},
     "output_type": "execute_result"
    }
   ],
   "source": [
    "detroit.shape"
   ]
  },
  {
   "cell_type": "code",
   "execution_count": 34,
   "metadata": {},
   "outputs": [
    {
     "data": {
      "text/plain": [
       "(51, 8)"
      ]
     },
     "execution_count": 34,
     "metadata": {},
     "output_type": "execute_result"
    }
   ],
   "source": [
    "# detroit.isnull()\n",
    "# detroit = detroit.dropna()\n",
    "detroit.shape\n",
    "# detroit.head(60)"
   ]
  },
  {
   "cell_type": "code",
   "execution_count": 33,
   "metadata": {},
   "outputs": [
    {
     "data": {
      "text/html": [
       "<div>\n",
       "<style scoped>\n",
       "    .dataframe tbody tr th:only-of-type {\n",
       "        vertical-align: middle;\n",
       "    }\n",
       "\n",
       "    .dataframe tbody tr th {\n",
       "        vertical-align: top;\n",
       "    }\n",
       "\n",
       "    .dataframe thead th {\n",
       "        text-align: right;\n",
       "    }\n",
       "</style>\n",
       "<table border=\"1\" class=\"dataframe\">\n",
       "  <thead>\n",
       "    <tr style=\"text-align: right;\">\n",
       "      <th></th>\n",
       "      <th>zipcode</th>\n",
       "      <th>Population</th>\n",
       "      <th>Median Age</th>\n",
       "      <th>Household Income</th>\n",
       "      <th>Per Capita Income</th>\n",
       "      <th>Poverty Count</th>\n",
       "      <th>Poverty Rate</th>\n",
       "      <th>crime_rate</th>\n",
       "    </tr>\n",
       "  </thead>\n",
       "  <tbody>\n",
       "    <tr>\n",
       "      <th>0</th>\n",
       "      <td>32805.0</td>\n",
       "      <td>22001.0</td>\n",
       "      <td>36.2</td>\n",
       "      <td>23950.0</td>\n",
       "      <td>14649.0</td>\n",
       "      <td>7757.0</td>\n",
       "      <td>35.257488</td>\n",
       "      <td>1.034453</td>\n",
       "    </tr>\n",
       "    <tr>\n",
       "      <th>1</th>\n",
       "      <td>32801.0</td>\n",
       "      <td>11237.0</td>\n",
       "      <td>37.4</td>\n",
       "      <td>47151.0</td>\n",
       "      <td>40726.0</td>\n",
       "      <td>2071.0</td>\n",
       "      <td>18.430186</td>\n",
       "      <td>2.567500</td>\n",
       "    </tr>\n",
       "    <tr>\n",
       "      <th>2</th>\n",
       "      <td>32803.0</td>\n",
       "      <td>17680.0</td>\n",
       "      <td>39.4</td>\n",
       "      <td>53101.0</td>\n",
       "      <td>40884.0</td>\n",
       "      <td>1950.0</td>\n",
       "      <td>11.029412</td>\n",
       "      <td>0.588292</td>\n",
       "    </tr>\n",
       "    <tr>\n",
       "      <th>3</th>\n",
       "      <td>32804.0</td>\n",
       "      <td>16826.0</td>\n",
       "      <td>40.4</td>\n",
       "      <td>58548.0</td>\n",
       "      <td>42558.0</td>\n",
       "      <td>1911.0</td>\n",
       "      <td>11.357423</td>\n",
       "      <td>0.428266</td>\n",
       "    </tr>\n",
       "    <tr>\n",
       "      <th>4</th>\n",
       "      <td>32811.0</td>\n",
       "      <td>38301.0</td>\n",
       "      <td>29.8</td>\n",
       "      <td>34189.0</td>\n",
       "      <td>15654.0</td>\n",
       "      <td>9663.0</td>\n",
       "      <td>25.229106</td>\n",
       "      <td>0.567244</td>\n",
       "    </tr>\n",
       "  </tbody>\n",
       "</table>\n",
       "</div>"
      ],
      "text/plain": [
       "   zipcode  Population  Median Age  Household Income  Per Capita Income  \\\n",
       "0  32805.0     22001.0        36.2           23950.0            14649.0   \n",
       "1  32801.0     11237.0        37.4           47151.0            40726.0   \n",
       "2  32803.0     17680.0        39.4           53101.0            40884.0   \n",
       "3  32804.0     16826.0        40.4           58548.0            42558.0   \n",
       "4  32811.0     38301.0        29.8           34189.0            15654.0   \n",
       "\n",
       "   Poverty Count  Poverty Rate  crime_rate  \n",
       "0         7757.0     35.257488    1.034453  \n",
       "1         2071.0     18.430186    2.567500  \n",
       "2         1950.0     11.029412    0.588292  \n",
       "3         1911.0     11.357423    0.428266  \n",
       "4         9663.0     25.229106    0.567244  "
      ]
     },
     "execution_count": 33,
     "metadata": {},
     "output_type": "execute_result"
    }
   ],
   "source": [
    "orlando = pd.read_csv('data/crime and census/orlando_census.csv')\n",
    "orlando[\"crime_rate\"] = \"\"\n",
    "orlando[\"crime_rate\"] = orlando[\"total_crimes\"]/orlando[\"Population\"]\n",
    "orlando = orlando.drop([\"total_crimes\"], axis=1)\n",
    "orlando.head()"
   ]
  },
  {
   "cell_type": "code",
   "execution_count": 35,
   "metadata": {},
   "outputs": [
    {
     "data": {
      "text/plain": [
       "(37, 8)"
      ]
     },
     "execution_count": 35,
     "metadata": {},
     "output_type": "execute_result"
    }
   ],
   "source": [
    "orlando.shape"
   ]
  },
  {
   "cell_type": "code",
   "execution_count": 38,
   "metadata": {},
   "outputs": [
    {
     "data": {
      "text/plain": [
       "(36, 8)"
      ]
     },
     "execution_count": 38,
     "metadata": {},
     "output_type": "execute_result"
    }
   ],
   "source": [
    "# orlando.isnull()\n",
    "orlando = orlando.dropna()\n",
    "orlando.shape"
   ]
  },
  {
   "cell_type": "code",
   "execution_count": 41,
   "metadata": {},
   "outputs": [
    {
     "data": {
      "text/html": [
       "<div>\n",
       "<style scoped>\n",
       "    .dataframe tbody tr th:only-of-type {\n",
       "        vertical-align: middle;\n",
       "    }\n",
       "\n",
       "    .dataframe tbody tr th {\n",
       "        vertical-align: top;\n",
       "    }\n",
       "\n",
       "    .dataframe thead th {\n",
       "        text-align: right;\n",
       "    }\n",
       "</style>\n",
       "<table border=\"1\" class=\"dataframe\">\n",
       "  <thead>\n",
       "    <tr style=\"text-align: right;\">\n",
       "      <th></th>\n",
       "      <th>zipcode</th>\n",
       "      <th>Population</th>\n",
       "      <th>Median Age</th>\n",
       "      <th>Household Income</th>\n",
       "      <th>Per Capita Income</th>\n",
       "      <th>Poverty Count</th>\n",
       "      <th>Poverty Rate</th>\n",
       "      <th>crime_rate</th>\n",
       "    </tr>\n",
       "  </thead>\n",
       "  <tbody>\n",
       "    <tr>\n",
       "      <th>0</th>\n",
       "      <td>19139</td>\n",
       "      <td>43181</td>\n",
       "      <td>32.1</td>\n",
       "      <td>24627.0</td>\n",
       "      <td>14663.0</td>\n",
       "      <td>15780</td>\n",
       "      <td>36.543850</td>\n",
       "      <td>4.288205</td>\n",
       "    </tr>\n",
       "    <tr>\n",
       "      <th>1</th>\n",
       "      <td>19120</td>\n",
       "      <td>76430</td>\n",
       "      <td>28.5</td>\n",
       "      <td>33966.0</td>\n",
       "      <td>14324.0</td>\n",
       "      <td>24323</td>\n",
       "      <td>31.823891</td>\n",
       "      <td>1.298221</td>\n",
       "    </tr>\n",
       "    <tr>\n",
       "      <th>2</th>\n",
       "      <td>19140</td>\n",
       "      <td>53778</td>\n",
       "      <td>32.6</td>\n",
       "      <td>22654.0</td>\n",
       "      <td>12868.0</td>\n",
       "      <td>22942</td>\n",
       "      <td>42.660568</td>\n",
       "      <td>2.054558</td>\n",
       "    </tr>\n",
       "    <tr>\n",
       "      <th>3</th>\n",
       "      <td>19148</td>\n",
       "      <td>51455</td>\n",
       "      <td>36.2</td>\n",
       "      <td>39413.0</td>\n",
       "      <td>21209.0</td>\n",
       "      <td>11323</td>\n",
       "      <td>22.005636</td>\n",
       "      <td>1.538509</td>\n",
       "    </tr>\n",
       "    <tr>\n",
       "      <th>4</th>\n",
       "      <td>19141</td>\n",
       "      <td>32058</td>\n",
       "      <td>35.5</td>\n",
       "      <td>29601.0</td>\n",
       "      <td>16882.0</td>\n",
       "      <td>9599</td>\n",
       "      <td>29.942604</td>\n",
       "      <td>2.496226</td>\n",
       "    </tr>\n",
       "  </tbody>\n",
       "</table>\n",
       "</div>"
      ],
      "text/plain": [
       "   zipcode  Population  Median Age  Household Income  Per Capita Income  \\\n",
       "0    19139       43181        32.1           24627.0            14663.0   \n",
       "1    19120       76430        28.5           33966.0            14324.0   \n",
       "2    19140       53778        32.6           22654.0            12868.0   \n",
       "3    19148       51455        36.2           39413.0            21209.0   \n",
       "4    19141       32058        35.5           29601.0            16882.0   \n",
       "\n",
       "   Poverty Count  Poverty Rate  crime_rate  \n",
       "0          15780     36.543850    4.288205  \n",
       "1          24323     31.823891    1.298221  \n",
       "2          22942     42.660568    2.054558  \n",
       "3          11323     22.005636    1.538509  \n",
       "4           9599     29.942604    2.496226  "
      ]
     },
     "execution_count": 41,
     "metadata": {},
     "output_type": "execute_result"
    }
   ],
   "source": [
    "philly = pd.read_csv('data/crime and census/philly_census.csv')\n",
    "philly[\"crime_rate\"] = \"\"\n",
    "philly[\"crime_rate\"] = philly[\"total_crimes\"]/philly[\"Population\"]\n",
    "philly = philly.drop([\"total_crimes\"], axis=1)\n",
    "philly.head()"
   ]
  },
  {
   "cell_type": "code",
   "execution_count": 44,
   "metadata": {},
   "outputs": [
    {
     "data": {
      "text/plain": [
       "(63, 8)"
      ]
     },
     "execution_count": 44,
     "metadata": {},
     "output_type": "execute_result"
    }
   ],
   "source": [
    "philly.shape"
   ]
  },
  {
   "cell_type": "code",
   "execution_count": 45,
   "metadata": {},
   "outputs": [
    {
     "data": {
      "text/plain": [
       "(61, 8)"
      ]
     },
     "execution_count": 45,
     "metadata": {},
     "output_type": "execute_result"
    }
   ],
   "source": [
    "# orlando.isnull()\n",
    "philly = philly.dropna()\n",
    "philly.shape"
   ]
  },
  {
   "cell_type": "code",
   "execution_count": 54,
   "metadata": {},
   "outputs": [
    {
     "data": {
      "text/html": [
       "<div>\n",
       "<style scoped>\n",
       "    .dataframe tbody tr th:only-of-type {\n",
       "        vertical-align: middle;\n",
       "    }\n",
       "\n",
       "    .dataframe tbody tr th {\n",
       "        vertical-align: top;\n",
       "    }\n",
       "\n",
       "    .dataframe thead th {\n",
       "        text-align: right;\n",
       "    }\n",
       "</style>\n",
       "<table border=\"1\" class=\"dataframe\">\n",
       "  <thead>\n",
       "    <tr style=\"text-align: right;\">\n",
       "      <th></th>\n",
       "      <th>zipcode</th>\n",
       "      <th>total_crime</th>\n",
       "      <th>Population</th>\n",
       "      <th>Median Age</th>\n",
       "      <th>Household Income</th>\n",
       "      <th>Per Capita Income</th>\n",
       "      <th>Poverty Count</th>\n",
       "      <th>Poverty Rate</th>\n",
       "    </tr>\n",
       "  </thead>\n",
       "  <tbody>\n",
       "    <tr>\n",
       "      <th>0</th>\n",
       "      <td>85701</td>\n",
       "      <td>175582</td>\n",
       "      <td>4889.0</td>\n",
       "      <td>38.7</td>\n",
       "      <td>34017.0</td>\n",
       "      <td>24725.0</td>\n",
       "      <td>1585.0</td>\n",
       "      <td>32.419718</td>\n",
       "    </tr>\n",
       "    <tr>\n",
       "      <th>1</th>\n",
       "      <td>85719</td>\n",
       "      <td>175493</td>\n",
       "      <td>44220.0</td>\n",
       "      <td>22.9</td>\n",
       "      <td>27009.0</td>\n",
       "      <td>17625.0</td>\n",
       "      <td>14271.0</td>\n",
       "      <td>32.272727</td>\n",
       "    </tr>\n",
       "    <tr>\n",
       "      <th>2</th>\n",
       "      <td>85714</td>\n",
       "      <td>145788</td>\n",
       "      <td>13725.0</td>\n",
       "      <td>34.4</td>\n",
       "      <td>24874.0</td>\n",
       "      <td>12298.0</td>\n",
       "      <td>4286.0</td>\n",
       "      <td>31.227687</td>\n",
       "    </tr>\n",
       "    <tr>\n",
       "      <th>3</th>\n",
       "      <td>85710</td>\n",
       "      <td>99301</td>\n",
       "      <td>55323.0</td>\n",
       "      <td>42.3</td>\n",
       "      <td>42204.0</td>\n",
       "      <td>23515.0</td>\n",
       "      <td>8388.0</td>\n",
       "      <td>15.161868</td>\n",
       "    </tr>\n",
       "    <tr>\n",
       "      <th>4</th>\n",
       "      <td>85712</td>\n",
       "      <td>120089</td>\n",
       "      <td>33830.0</td>\n",
       "      <td>36.9</td>\n",
       "      <td>31290.0</td>\n",
       "      <td>22504.0</td>\n",
       "      <td>8742.0</td>\n",
       "      <td>25.840970</td>\n",
       "    </tr>\n",
       "  </tbody>\n",
       "</table>\n",
       "</div>"
      ],
      "text/plain": [
       "   zipcode  total_crime  Population  Median Age  Household Income  \\\n",
       "0    85701       175582      4889.0        38.7           34017.0   \n",
       "1    85719       175493     44220.0        22.9           27009.0   \n",
       "2    85714       145788     13725.0        34.4           24874.0   \n",
       "3    85710        99301     55323.0        42.3           42204.0   \n",
       "4    85712       120089     33830.0        36.9           31290.0   \n",
       "\n",
       "   Per Capita Income  Poverty Count  Poverty Rate  \n",
       "0            24725.0         1585.0     32.419718  \n",
       "1            17625.0        14271.0     32.272727  \n",
       "2            12298.0         4286.0     31.227687  \n",
       "3            23515.0         8388.0     15.161868  \n",
       "4            22504.0         8742.0     25.840970  "
      ]
     },
     "execution_count": 54,
     "metadata": {},
     "output_type": "execute_result"
    }
   ],
   "source": [
    "tucson = pd.read_csv('data/crime and census/tucson_census.csv')\n",
    "tucson.head()"
   ]
  },
  {
   "cell_type": "code",
   "execution_count": 55,
   "metadata": {},
   "outputs": [
    {
     "data": {
      "text/html": [
       "<div>\n",
       "<style scoped>\n",
       "    .dataframe tbody tr th:only-of-type {\n",
       "        vertical-align: middle;\n",
       "    }\n",
       "\n",
       "    .dataframe tbody tr th {\n",
       "        vertical-align: top;\n",
       "    }\n",
       "\n",
       "    .dataframe thead th {\n",
       "        text-align: right;\n",
       "    }\n",
       "</style>\n",
       "<table border=\"1\" class=\"dataframe\">\n",
       "  <thead>\n",
       "    <tr style=\"text-align: right;\">\n",
       "      <th></th>\n",
       "      <th>zipcode</th>\n",
       "      <th>Population</th>\n",
       "      <th>Median Age</th>\n",
       "      <th>Household Income</th>\n",
       "      <th>Per Capita Income</th>\n",
       "      <th>Poverty Count</th>\n",
       "      <th>Poverty Rate</th>\n",
       "      <th>crime_rate</th>\n",
       "    </tr>\n",
       "  </thead>\n",
       "  <tbody>\n",
       "    <tr>\n",
       "      <th>0</th>\n",
       "      <td>85701</td>\n",
       "      <td>4889.0</td>\n",
       "      <td>38.7</td>\n",
       "      <td>34017.0</td>\n",
       "      <td>24725.0</td>\n",
       "      <td>1585.0</td>\n",
       "      <td>32.419718</td>\n",
       "      <td>35.913684</td>\n",
       "    </tr>\n",
       "    <tr>\n",
       "      <th>1</th>\n",
       "      <td>85719</td>\n",
       "      <td>44220.0</td>\n",
       "      <td>22.9</td>\n",
       "      <td>27009.0</td>\n",
       "      <td>17625.0</td>\n",
       "      <td>14271.0</td>\n",
       "      <td>32.272727</td>\n",
       "      <td>3.968634</td>\n",
       "    </tr>\n",
       "    <tr>\n",
       "      <th>2</th>\n",
       "      <td>85714</td>\n",
       "      <td>13725.0</td>\n",
       "      <td>34.4</td>\n",
       "      <td>24874.0</td>\n",
       "      <td>12298.0</td>\n",
       "      <td>4286.0</td>\n",
       "      <td>31.227687</td>\n",
       "      <td>10.622077</td>\n",
       "    </tr>\n",
       "    <tr>\n",
       "      <th>3</th>\n",
       "      <td>85710</td>\n",
       "      <td>55323.0</td>\n",
       "      <td>42.3</td>\n",
       "      <td>42204.0</td>\n",
       "      <td>23515.0</td>\n",
       "      <td>8388.0</td>\n",
       "      <td>15.161868</td>\n",
       "      <td>1.794932</td>\n",
       "    </tr>\n",
       "    <tr>\n",
       "      <th>4</th>\n",
       "      <td>85712</td>\n",
       "      <td>33830.0</td>\n",
       "      <td>36.9</td>\n",
       "      <td>31290.0</td>\n",
       "      <td>22504.0</td>\n",
       "      <td>8742.0</td>\n",
       "      <td>25.840970</td>\n",
       "      <td>3.549778</td>\n",
       "    </tr>\n",
       "  </tbody>\n",
       "</table>\n",
       "</div>"
      ],
      "text/plain": [
       "   zipcode  Population  Median Age  Household Income  Per Capita Income  \\\n",
       "0    85701      4889.0        38.7           34017.0            24725.0   \n",
       "1    85719     44220.0        22.9           27009.0            17625.0   \n",
       "2    85714     13725.0        34.4           24874.0            12298.0   \n",
       "3    85710     55323.0        42.3           42204.0            23515.0   \n",
       "4    85712     33830.0        36.9           31290.0            22504.0   \n",
       "\n",
       "   Poverty Count  Poverty Rate  crime_rate  \n",
       "0         1585.0     32.419718   35.913684  \n",
       "1        14271.0     32.272727    3.968634  \n",
       "2         4286.0     31.227687   10.622077  \n",
       "3         8388.0     15.161868    1.794932  \n",
       "4         8742.0     25.840970    3.549778  "
      ]
     },
     "execution_count": 55,
     "metadata": {},
     "output_type": "execute_result"
    }
   ],
   "source": [
    "tucson[\"crime_rate\"] = \"\"\n",
    "tucson[\"crime_rate\"] = tucson[\"total_crime\"]/tucson[\"Population\"]\n",
    "tucson = tucson.drop([\"total_crime\"], axis=1)\n",
    "tucson.head()\n",
    "# tucson.isnull().values.any()"
   ]
  },
  {
   "cell_type": "code",
   "execution_count": 56,
   "metadata": {},
   "outputs": [
    {
     "data": {
      "text/plain": [
       "(115, 8)"
      ]
     },
     "execution_count": 56,
     "metadata": {},
     "output_type": "execute_result"
    }
   ],
   "source": [
    "tucson.shape"
   ]
  },
  {
   "cell_type": "code",
   "execution_count": 57,
   "metadata": {},
   "outputs": [
    {
     "data": {
      "text/plain": [
       "(113, 8)"
      ]
     },
     "execution_count": 57,
     "metadata": {},
     "output_type": "execute_result"
    }
   ],
   "source": [
    "tucson = tucson.dropna()\n",
    "tucson.shape"
   ]
  },
  {
   "cell_type": "code",
   "execution_count": 88,
   "metadata": {},
   "outputs": [],
   "source": [
    "mytable = pd.concat([kansascity, atlanta, baltimore,\n",
    "          detroit, orlando, philly, tucson], ignore_index=True)\n",
    "mytable.to_csv('combined_cities_census.csv', \n",
    "               encoding='utf-8', index=False)"
   ]
  },
  {
   "cell_type": "code",
   "execution_count": 63,
   "metadata": {},
   "outputs": [
    {
     "data": {
      "text/plain": [
       "False"
      ]
     },
     "execution_count": 63,
     "metadata": {},
     "output_type": "execute_result"
    }
   ],
   "source": [
    "mytable.isnull().values.any()"
   ]
  },
  {
   "cell_type": "code",
   "execution_count": 64,
   "metadata": {},
   "outputs": [
    {
     "name": "stdout",
     "output_type": "stream",
     "text": [
      "(112, 8),(32, 8),(26, 8),(51, 8),(36, 8),(61, 8),(113, 8)\n"
     ]
    }
   ],
   "source": [
    "print(str(kansascity.shape) + ',' +\n",
    "str(atlanta.shape) + ',' +\n",
    "str(baltimore.shape) + ',' +\n",
    "str(detroit.shape) + ',' +\n",
    "str(orlando.shape) + ',' +\n",
    "str(philly.shape) + ',' +\n",
    "str(tucson.shape))"
   ]
  },
  {
   "cell_type": "code",
   "execution_count": 65,
   "metadata": {},
   "outputs": [],
   "source": [
    "array = [\"Median Age\", \"Household Income\", \"Per Capita Income\", \"Poverty Count\", \"Poverty Rate\"]"
   ]
  },
  {
   "cell_type": "code",
   "execution_count": 66,
   "metadata": {},
   "outputs": [
    {
     "name": "stdout",
     "output_type": "stream",
     "text": [
      "Median Age - R2 Score: 0.005634975407487364\n",
      "Household Income - R2 Score: 0.00309004384518341\n",
      "Per Capita Income - R2 Score: 2.0970628569538796e-05\n",
      "Poverty Count - R2 Score: 0.002582607405453352\n",
      "Poverty Rate - R2 Score: 0.010448062546110859\n"
     ]
    },
    {
     "name": "stderr",
     "output_type": "stream",
     "text": [
      "/usr/local/lib/python3.6/site-packages/sklearn/linear_model/base.py:485: RuntimeWarning: internal gelsd driver lwork query error, required iwork dimension not returned. This is likely the result of LAPACK bug 0038, fixed in LAPACK 3.2.2 (released July 21, 2010). Falling back to 'gelss' driver.\n",
      "  linalg.lstsq(X, y)\n"
     ]
    }
   ],
   "source": [
    "from sklearn.linear_model import LinearRegression\n",
    "model = LinearRegression()\n",
    "\n",
    "for variable in array:\n",
    "    X = mytable[variable].values.reshape(-1, 1)\n",
    "    y = mytable[\"crime_rate\"].values.reshape(-1, 1)\n",
    "\n",
    "    # Fitting our model with all of our features in X\n",
    "    model.fit(X, y)\n",
    "\n",
    "    score = model.score(X, y)\n",
    "    print(f\"{variable} - R2 Score: {score}\")"
   ]
  },
  {
   "cell_type": "code",
   "execution_count": 79,
   "metadata": {},
   "outputs": [
    {
     "name": "stdout",
     "output_type": "stream",
     "text": [
      "R2 Score: 0.018529820802902885\n"
     ]
    }
   ],
   "source": [
    "X = mytable[[\"Poverty Rate\", \"Median Age\", \n",
    "             \"Per Capita Income\", \"Household Income\"]]\n",
    "y = mytable[\"crime_rate\"].values.reshape(-1, 1)\n",
    "\n",
    "# Fitting our model with all of our features in X\n",
    "model.fit(X, y)\n",
    "\n",
    "score = model.score(X, y)\n",
    "print(f\"R2 Score: {score}\")"
   ]
  },
  {
   "cell_type": "code",
   "execution_count": 86,
   "metadata": {},
   "outputs": [
    {
     "data": {
      "text/plain": [
       "LinearRegression(copy_X=True, fit_intercept=True, n_jobs=None,\n",
       "         normalize=False)"
      ]
     },
     "execution_count": 86,
     "metadata": {},
     "output_type": "execute_result"
    }
   ],
   "source": [
    "#splitting into train and test data\n",
    "from sklearn.model_selection import train_test_split\n",
    "\n",
    "X_train, X_test, y_train, y_test = train_test_split(X, y, random_state=42)\n",
    "#retraining model with train data\n",
    "model.fit(X_train, y_train)"
   ]
  },
  {
   "cell_type": "code",
   "execution_count": 87,
   "metadata": {},
   "outputs": [
    {
     "name": "stdout",
     "output_type": "stream",
     "text": [
      "Training Data Score: 0.013296008493797862\n",
      "Testing Data Score: 0.01989773984504839\n"
     ]
    }
   ],
   "source": [
    "print(f\"Training Data Score: {model.score(X_train, y_train)}\")\n",
    "print(f\"Testing Data Score: {model.score(X_test, y_test)}\")"
   ]
  },
  {
   "cell_type": "code",
   "execution_count": null,
   "metadata": {},
   "outputs": [],
   "source": []
  }
 ],
 "metadata": {
  "kernelspec": {
   "display_name": "Python 3",
   "language": "python",
   "name": "python3"
  },
  "language_info": {
   "codemirror_mode": {
    "name": "ipython",
    "version": 3
   },
   "file_extension": ".py",
   "mimetype": "text/x-python",
   "name": "python",
   "nbconvert_exporter": "python",
   "pygments_lexer": "ipython3",
   "version": "3.6.4"
  }
 },
 "nbformat": 4,
 "nbformat_minor": 2
}
