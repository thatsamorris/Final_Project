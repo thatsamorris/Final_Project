{
 "cells": [
  {
   "cell_type": "code",
   "execution_count": 2,
   "metadata": {},
   "outputs": [],
   "source": [
    " %matplotlib inline\n",
    "import matplotlib.pyplot as plt\n",
    "import numpy as np\n",
    "import pandas as pd"
   ]
  },
  {
   "cell_type": "code",
   "execution_count": 3,
   "metadata": {},
   "outputs": [
    {
     "data": {
      "text/html": [
       "<div>\n",
       "<style scoped>\n",
       "    .dataframe tbody tr th:only-of-type {\n",
       "        vertical-align: middle;\n",
       "    }\n",
       "\n",
       "    .dataframe tbody tr th {\n",
       "        vertical-align: top;\n",
       "    }\n",
       "\n",
       "    .dataframe thead th {\n",
       "        text-align: right;\n",
       "    }\n",
       "</style>\n",
       "<table border=\"1\" class=\"dataframe\">\n",
       "  <thead>\n",
       "    <tr style=\"text-align: right;\">\n",
       "      <th></th>\n",
       "      <th>Zipcode</th>\n",
       "      <th>Population</th>\n",
       "      <th>MedianAge</th>\n",
       "      <th>HouseholdIncome</th>\n",
       "      <th>PerCapitaIncome</th>\n",
       "      <th>PovertyCount</th>\n",
       "      <th>PovertyRate</th>\n",
       "      <th>crime_rate</th>\n",
       "      <th>crime_rating</th>\n",
       "    </tr>\n",
       "  </thead>\n",
       "  <tbody>\n",
       "    <tr>\n",
       "      <th>0</th>\n",
       "      <td>64120</td>\n",
       "      <td>346</td>\n",
       "      <td>58.5</td>\n",
       "      <td>57674</td>\n",
       "      <td>33291</td>\n",
       "      <td>43</td>\n",
       "      <td>12.427746</td>\n",
       "      <td>1.141618</td>\n",
       "      <td>High</td>\n",
       "    </tr>\n",
       "    <tr>\n",
       "      <th>1</th>\n",
       "      <td>64161</td>\n",
       "      <td>328</td>\n",
       "      <td>43.8</td>\n",
       "      <td>63281</td>\n",
       "      <td>31019</td>\n",
       "      <td>15</td>\n",
       "      <td>4.573171</td>\n",
       "      <td>0.490854</td>\n",
       "      <td>High</td>\n",
       "    </tr>\n",
       "    <tr>\n",
       "      <th>2</th>\n",
       "      <td>64106</td>\n",
       "      <td>8125</td>\n",
       "      <td>28.1</td>\n",
       "      <td>25649</td>\n",
       "      <td>18949</td>\n",
       "      <td>3773</td>\n",
       "      <td>46.436923</td>\n",
       "      <td>0.347446</td>\n",
       "      <td>High</td>\n",
       "    </tr>\n",
       "    <tr>\n",
       "      <th>3</th>\n",
       "      <td>64127</td>\n",
       "      <td>15419</td>\n",
       "      <td>34.5</td>\n",
       "      <td>21494</td>\n",
       "      <td>12924</td>\n",
       "      <td>6167</td>\n",
       "      <td>39.996109</td>\n",
       "      <td>0.228484</td>\n",
       "      <td>High</td>\n",
       "    </tr>\n",
       "    <tr>\n",
       "      <th>4</th>\n",
       "      <td>64130</td>\n",
       "      <td>21000</td>\n",
       "      <td>39.2</td>\n",
       "      <td>28493</td>\n",
       "      <td>15238</td>\n",
       "      <td>6003</td>\n",
       "      <td>28.585714</td>\n",
       "      <td>0.224619</td>\n",
       "      <td>High</td>\n",
       "    </tr>\n",
       "  </tbody>\n",
       "</table>\n",
       "</div>"
      ],
      "text/plain": [
       "   Zipcode  Population  MedianAge  HouseholdIncome  PerCapitaIncome  \\\n",
       "0    64120         346       58.5            57674            33291   \n",
       "1    64161         328       43.8            63281            31019   \n",
       "2    64106        8125       28.1            25649            18949   \n",
       "3    64127       15419       34.5            21494            12924   \n",
       "4    64130       21000       39.2            28493            15238   \n",
       "\n",
       "   PovertyCount  PovertyRate  crime_rate crime_rating  \n",
       "0            43    12.427746    1.141618         High  \n",
       "1            15     4.573171    0.490854         High  \n",
       "2          3773    46.436923    0.347446         High  \n",
       "3          6167    39.996109    0.228484         High  \n",
       "4          6003    28.585714    0.224619         High  "
      ]
     },
     "execution_count": 3,
     "metadata": {},
     "output_type": "execute_result"
    }
   ],
   "source": [
    "census = pd.read_csv('data/census_crime_data_cleaned.csv')\n",
    "census.head()"
   ]
  },
  {
   "cell_type": "code",
   "execution_count": 4,
   "metadata": {},
   "outputs": [
    {
     "data": {
      "text/plain": [
       "(112, 9)"
      ]
     },
     "execution_count": 4,
     "metadata": {},
     "output_type": "execute_result"
    }
   ],
   "source": [
    "census.shape"
   ]
  },
  {
   "cell_type": "code",
   "execution_count": 5,
   "metadata": {},
   "outputs": [
    {
     "name": "stdout",
     "output_type": "stream",
     "text": [
      "['Zipcode', 'Population', 'MedianAge', 'HouseholdIncome', 'PerCapitaIncome', 'PovertyCount', 'PovertyRate', 'crime_rate', 'crime_rating']\n"
     ]
    }
   ],
   "source": [
    "print(list(census.head(0)))"
   ]
  },
  {
   "cell_type": "code",
   "execution_count": 8,
   "metadata": {},
   "outputs": [],
   "source": [
    "X = census[[\"MedianAge\", \"HouseholdIncome\", \"PerCapitaIncome\", \"PovertyRate\"]]\n",
    "y = census[\"crime_rate\"].values.reshape(-1, 1)\n",
    "\n",
    "# # Fitting our model with all of our features in X\n",
    "# model.fit(X, y)\n",
    "\n",
    "# score = model.score(X, y)\n",
    "# print(f\"R2 Score: {score}\")"
   ]
  },
  {
   "cell_type": "code",
   "execution_count": 9,
   "metadata": {},
   "outputs": [
    {
     "data": {
      "text/plain": [
       "LinearRegression(copy_X=True, fit_intercept=True, n_jobs=None,\n",
       "         normalize=False)"
      ]
     },
     "execution_count": 9,
     "metadata": {},
     "output_type": "execute_result"
    }
   ],
   "source": [
    "#splitting into train and test data\n",
    "from sklearn.model_selection import train_test_split\n",
    "\n",
    "X_train, X_test, y_train, y_test = train_test_split(X, y, random_state=42)"
   ]
  },
  {
   "cell_type": "code",
   "execution_count": null,
   "metadata": {},
   "outputs": [],
   "source": [
    "# [\"MedianAge\", \"HouseholdIncome\", \"PerCapitaIncome\", \"PovertyRate\"]"
   ]
  },
  {
   "cell_type": "code",
   "execution_count": 22,
   "metadata": {},
   "outputs": [
    {
     "data": {
      "text/html": [
       "<div>\n",
       "<style scoped>\n",
       "    .dataframe tbody tr th:only-of-type {\n",
       "        vertical-align: middle;\n",
       "    }\n",
       "\n",
       "    .dataframe tbody tr th {\n",
       "        vertical-align: top;\n",
       "    }\n",
       "\n",
       "    .dataframe thead th {\n",
       "        text-align: right;\n",
       "    }\n",
       "</style>\n",
       "<table border=\"1\" class=\"dataframe\">\n",
       "  <thead>\n",
       "    <tr style=\"text-align: right;\">\n",
       "      <th></th>\n",
       "      <th>MedianAge</th>\n",
       "      <th>HouseholdIncome</th>\n",
       "      <th>PerCapitaIncome</th>\n",
       "      <th>PovertyRate</th>\n",
       "    </tr>\n",
       "  </thead>\n",
       "  <tbody>\n",
       "    <tr>\n",
       "      <th>81</th>\n",
       "      <td>42.3</td>\n",
       "      <td>64111</td>\n",
       "      <td>29009</td>\n",
       "      <td>6.836978</td>\n",
       "    </tr>\n",
       "    <tr>\n",
       "      <th>77</th>\n",
       "      <td>50.7</td>\n",
       "      <td>88469</td>\n",
       "      <td>57261</td>\n",
       "      <td>9.782609</td>\n",
       "    </tr>\n",
       "    <tr>\n",
       "      <th>15</th>\n",
       "      <td>36.2</td>\n",
       "      <td>32377</td>\n",
       "      <td>19682</td>\n",
       "      <td>32.890110</td>\n",
       "    </tr>\n",
       "    <tr>\n",
       "      <th>30</th>\n",
       "      <td>33.6</td>\n",
       "      <td>73125</td>\n",
       "      <td>29243</td>\n",
       "      <td>11.885085</td>\n",
       "    </tr>\n",
       "    <tr>\n",
       "      <th>45</th>\n",
       "      <td>44.4</td>\n",
       "      <td>43906</td>\n",
       "      <td>25681</td>\n",
       "      <td>8.433735</td>\n",
       "    </tr>\n",
       "  </tbody>\n",
       "</table>\n",
       "</div>"
      ],
      "text/plain": [
       "    MedianAge  HouseholdIncome  PerCapitaIncome  PovertyRate\n",
       "81       42.3            64111            29009     6.836978\n",
       "77       50.7            88469            57261     9.782609\n",
       "15       36.2            32377            19682    32.890110\n",
       "30       33.6            73125            29243    11.885085\n",
       "45       44.4            43906            25681     8.433735"
      ]
     },
     "execution_count": 22,
     "metadata": {},
     "output_type": "execute_result"
    }
   ],
   "source": [
    "X_train.head()"
   ]
  },
  {
   "cell_type": "code",
   "execution_count": 31,
   "metadata": {},
   "outputs": [],
   "source": [
    "newXtrain = np.vstack([X_train.MedianAge, X_train.HouseholdIncome, X_train.PerCapitaIncome,\n",
    "                     X_train.PovertyRate]).T\n",
    "newytrain = np.array(y_train)"
   ]
  },
  {
   "cell_type": "code",
   "execution_count": 33,
   "metadata": {},
   "outputs": [
    {
     "data": {
      "text/plain": [
       "KernelDensity(algorithm='auto', atol=0, bandwidth=0.2, breadth_first=True,\n",
       "       kernel='gaussian', leaf_size=40, metric='euclidean',\n",
       "       metric_params=None, rtol=0)"
      ]
     },
     "execution_count": 33,
     "metadata": {},
     "output_type": "execute_result"
    }
   ],
   "source": [
    "from sklearn.neighbors.kde import KernelDensity\n",
    "kde = KernelDensity(kernel='gaussian', bandwidth=0.2)\n",
    "kde.fit(X_train)"
   ]
  },
  {
   "cell_type": "markdown",
   "metadata": {},
   "source": [
    "# TO BE CONTINUED!!"
   ]
  }
 ],
 "metadata": {
  "kernelspec": {
   "display_name": "Python 3",
   "language": "python",
   "name": "python3"
  },
  "language_info": {
   "codemirror_mode": {
    "name": "ipython",
    "version": 3
   },
   "file_extension": ".py",
   "mimetype": "text/x-python",
   "name": "python",
   "nbconvert_exporter": "python",
   "pygments_lexer": "ipython3",
   "version": "3.6.4"
  }
 },
 "nbformat": 4,
 "nbformat_minor": 2
}
